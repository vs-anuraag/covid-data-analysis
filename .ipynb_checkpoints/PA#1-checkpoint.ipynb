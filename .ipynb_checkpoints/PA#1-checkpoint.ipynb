{
 "cells": [
  {
   "cell_type": "markdown",
   "metadata": {},
   "source": [
    "# PA 1: Exploratory Analysis over Covid19 Dataset"
   ]
  },
  {
   "cell_type": "markdown",
   "metadata": {},
   "source": [
    "## Student Details\n",
    "\n",
    "Student Name and ID: Anuraag V S\n",
    "\n",
    "Notes:\n",
    "When submitting, fill your name and ID in this cell. Note that this is a markdown cell!\n",
    "Do not make any changes in the dataset file and do not rename any '.csv' files.\n",
    "Rename your submission file to <b> 'yourLastName_Last4digitsofyourID_PA1.ipynb' </b>.\n",
    "Do not to forget to cite any external sources used by you.\n",
    "\n",
    "* [-5 points] if this note/rule is not abided.\n"
   ]
  },
  {
   "cell_type": "markdown",
   "metadata": {},
   "source": [
    "## Assignment Details\n",
    "\n",
    "In this assignment, you will conduct a guided exploration over covid 19 dataset. You will learn and use some of the most common exploration/aggregation/descriptive operations. This should also help you learn most of the key functionalities in Pandas.\n",
    "\n",
    "You will also learn how to use visualization libraries to identify patterns in data that will help in your further data analysis. You will also explore most popular chart types and how to use different libraries and styles to make your visualizations more attractive."
   ]
  },
  {
   "cell_type": "markdown",
   "metadata": {},
   "source": [
    "## Dataset Details\n",
    "\n",
    "In this assignment, you will work on Covid 19 dataset. Specifically, you will work on covid.csv attached file with this project. The file covid.csv contains 35,156 rows and 10 columns. This dataset begins 01/22/2020, and runs upto 7/27/2020. It includes day to day country wise no. of cases which has County/State/Province level data. The columns of the data-set are:\n",
    "\n",
    "- Date - The day on which cases have been reported / recorded.\n",
    "- Country/Region - The country where these cases have been recorded.\n",
    "- Confirmed\tDeaths - The no. of deaths\n",
    "- Recovered\t- The no. of recovered cases.\n",
    "- Active - The no. of active cases.\n",
    "- New cases\t- The no. of new cases.\n",
    "- New deaths - The no. of new deaths.\t\n",
    "- New recovered - The no. of new recovered cases.\n",
    "- WHO Region - WHO operated regions.\n"
   ]
  },
  {
   "cell_type": "markdown",
   "metadata": {},
   "source": [
    "## Required Python Packages\n",
    "You will use the packages imported below in this assignment. \n",
    "Do NOT import any new packages without confirming with the TA. "
   ]
  },
  {
   "cell_type": "code",
   "execution_count": 1,
   "metadata": {},
   "outputs": [],
   "source": [
    "# special IPython command to prepare the notebook for matplotlib\n",
    "%matplotlib inline \n",
    "\n",
    "#Array processing\n",
    "import numpy as np\n",
    "#Data analysis, wrangling and common exploratory operations\n",
    "import pandas as pd\n",
    "from pandas import Series, DataFrame\n",
    "\n",
    "#For visualization. Matplotlib for basic viz and seaborn for more stylish figures\n",
    "import matplotlib.pyplot as plt\n",
    "import seaborn as sns"
   ]
  },
  {
   "cell_type": "markdown",
   "metadata": {},
   "source": [
    "# Reading Dataset\n",
    "The Python code below reads the Federal Emergencies and Disasters dataset into a Pandas data frame with the name df_data. \n",
    "For this code to work, the file 'database.csv' must be in the same folder as this file."
   ]
  },
  {
   "cell_type": "code",
   "execution_count": 2,
   "metadata": {},
   "outputs": [
    {
     "name": "stdout",
     "output_type": "stream",
     "text": [
      ">>Task a: The csv file into a Pandas data frame: \n",
      "             Date      Country/Region  Confirmed  Deaths  Recovered  Active  \\\n",
      "0      1/22/2020         Afghanistan          0       0          0       0   \n",
      "1      1/22/2020             Albania          0       0          0       0   \n",
      "2      1/22/2020             Algeria          0       0          0       0   \n",
      "3      1/22/2020             Andorra          0       0          0       0   \n",
      "4      1/22/2020              Angola          0       0          0       0   \n",
      "...          ...                 ...        ...     ...        ...     ...   \n",
      "35151  7/27/2020  West Bank and Gaza      10621      78       3752    6791   \n",
      "35152  7/27/2020      Western Sahara         10       1          8       1   \n",
      "35153  7/27/2020               Yemen       1691     483        833     375   \n",
      "35154  7/27/2020              Zambia       4552     140       2815    1597   \n",
      "35155  7/27/2020            Zimbabwe       2704      36        542    2126   \n",
      "\n",
      "       New cases  New deaths  New recovered             WHO Region  \n",
      "0              0           0              0  Eastern Mediterranean  \n",
      "1              0           0              0                 Europe  \n",
      "2              0           0              0                 Africa  \n",
      "3              0           0              0                 Europe  \n",
      "4              0           0              0                 Africa  \n",
      "...          ...         ...            ...                    ...  \n",
      "35151        152           2              0  Eastern Mediterranean  \n",
      "35152          0           0              0                 Africa  \n",
      "35153         10           4             36  Eastern Mediterranean  \n",
      "35154         71           1            465                 Africa  \n",
      "35155        192           2             24                 Africa  \n",
      "\n",
      "[35156 rows x 10 columns]\n",
      ">>Task b: The last 5 rows of the dataset are: \n",
      "             Date      Country/Region  Confirmed  Deaths  Recovered  Active  \\\n",
      "35151  7/27/2020  West Bank and Gaza      10621      78       3752    6791   \n",
      "35152  7/27/2020      Western Sahara         10       1          8       1   \n",
      "35153  7/27/2020               Yemen       1691     483        833     375   \n",
      "35154  7/27/2020              Zambia       4552     140       2815    1597   \n",
      "35155  7/27/2020            Zimbabwe       2704      36        542    2126   \n",
      "\n",
      "       New cases  New deaths  New recovered             WHO Region  \n",
      "35151        152           2              0  Eastern Mediterranean  \n",
      "35152          0           0              0                 Africa  \n",
      "35153         10           4             36  Eastern Mediterranean  \n",
      "35154         71           1            465                 Africa  \n",
      "35155        192           2             24                 Africa  \n"
     ]
    },
    {
     "data": {
      "text/html": [
       "<div>\n",
       "<style scoped>\n",
       "    .dataframe tbody tr th:only-of-type {\n",
       "        vertical-align: middle;\n",
       "    }\n",
       "\n",
       "    .dataframe tbody tr th {\n",
       "        vertical-align: top;\n",
       "    }\n",
       "\n",
       "    .dataframe thead th {\n",
       "        text-align: right;\n",
       "    }\n",
       "</style>\n",
       "<table border=\"1\" class=\"dataframe\">\n",
       "  <thead>\n",
       "    <tr style=\"text-align: right;\">\n",
       "      <th></th>\n",
       "      <th>Date</th>\n",
       "      <th>Country/Region</th>\n",
       "      <th>Confirmed</th>\n",
       "      <th>Deaths</th>\n",
       "      <th>Recovered</th>\n",
       "      <th>Active</th>\n",
       "      <th>New cases</th>\n",
       "      <th>New deaths</th>\n",
       "      <th>New recovered</th>\n",
       "      <th>WHO Region</th>\n",
       "    </tr>\n",
       "  </thead>\n",
       "  <tbody>\n",
       "    <tr>\n",
       "      <th>35151</th>\n",
       "      <td>7/27/2020</td>\n",
       "      <td>West Bank and Gaza</td>\n",
       "      <td>10621</td>\n",
       "      <td>78</td>\n",
       "      <td>3752</td>\n",
       "      <td>6791</td>\n",
       "      <td>152</td>\n",
       "      <td>2</td>\n",
       "      <td>0</td>\n",
       "      <td>Eastern Mediterranean</td>\n",
       "    </tr>\n",
       "    <tr>\n",
       "      <th>35152</th>\n",
       "      <td>7/27/2020</td>\n",
       "      <td>Western Sahara</td>\n",
       "      <td>10</td>\n",
       "      <td>1</td>\n",
       "      <td>8</td>\n",
       "      <td>1</td>\n",
       "      <td>0</td>\n",
       "      <td>0</td>\n",
       "      <td>0</td>\n",
       "      <td>Africa</td>\n",
       "    </tr>\n",
       "    <tr>\n",
       "      <th>35153</th>\n",
       "      <td>7/27/2020</td>\n",
       "      <td>Yemen</td>\n",
       "      <td>1691</td>\n",
       "      <td>483</td>\n",
       "      <td>833</td>\n",
       "      <td>375</td>\n",
       "      <td>10</td>\n",
       "      <td>4</td>\n",
       "      <td>36</td>\n",
       "      <td>Eastern Mediterranean</td>\n",
       "    </tr>\n",
       "    <tr>\n",
       "      <th>35154</th>\n",
       "      <td>7/27/2020</td>\n",
       "      <td>Zambia</td>\n",
       "      <td>4552</td>\n",
       "      <td>140</td>\n",
       "      <td>2815</td>\n",
       "      <td>1597</td>\n",
       "      <td>71</td>\n",
       "      <td>1</td>\n",
       "      <td>465</td>\n",
       "      <td>Africa</td>\n",
       "    </tr>\n",
       "    <tr>\n",
       "      <th>35155</th>\n",
       "      <td>7/27/2020</td>\n",
       "      <td>Zimbabwe</td>\n",
       "      <td>2704</td>\n",
       "      <td>36</td>\n",
       "      <td>542</td>\n",
       "      <td>2126</td>\n",
       "      <td>192</td>\n",
       "      <td>2</td>\n",
       "      <td>24</td>\n",
       "      <td>Africa</td>\n",
       "    </tr>\n",
       "  </tbody>\n",
       "</table>\n",
       "</div>"
      ],
      "text/plain": [
       "            Date      Country/Region  Confirmed  Deaths  Recovered  Active  \\\n",
       "35151  7/27/2020  West Bank and Gaza      10621      78       3752    6791   \n",
       "35152  7/27/2020      Western Sahara         10       1          8       1   \n",
       "35153  7/27/2020               Yemen       1691     483        833     375   \n",
       "35154  7/27/2020              Zambia       4552     140       2815    1597   \n",
       "35155  7/27/2020            Zimbabwe       2704      36        542    2126   \n",
       "\n",
       "       New cases  New deaths  New recovered             WHO Region  \n",
       "35151        152           2              0  Eastern Mediterranean  \n",
       "35152          0           0              0                 Africa  \n",
       "35153         10           4             36  Eastern Mediterranean  \n",
       "35154         71           1            465                 Africa  \n",
       "35155        192           2             24                 Africa  "
      ]
     },
     "execution_count": 2,
     "metadata": {},
     "output_type": "execute_result"
    }
   ],
   "source": [
    "#2.5 points for both questions below.\n",
    "\n",
    "#read the csv file into a Pandas data frame\n",
    "df_data = pd.read_csv('covid.csv', encoding='latin1')\n",
    "print (\">>Task a: The csv file into a Pandas data frame: \\n\", df_data )\n",
    "\n",
    "\n",
    "#return the last 5 rows of the dataset\n",
    "print (\">>Task b: The last 5 rows of the dataset are: \\n\", df_data.tail() )\n",
    "df_data.tail()"
   ]
  },
  {
   "cell_type": "markdown",
   "metadata": {},
   "source": [
    "# Task 1: Statistical Exploratory Data Analysis\n",
    "Let us start with getting know the dataset. Your first task will be to get some basic information by using Pandas features.\n",
    "For each task below, look for a Pandas function to do the task.\n",
    "Replace None in each task with your code."
   ]
  },
  {
   "cell_type": "code",
   "execution_count": 3,
   "metadata": {
    "scrolled": true
   },
   "outputs": [
    {
     "name": "stdout",
     "output_type": "stream",
     "text": [
      ">>Task 1-a: Details of data frame are: \n",
      " <bound method DataFrame.info of             Date      Country/Region  Confirmed  Deaths  Recovered  Active  \\\n",
      "0      1/22/2020         Afghanistan          0       0          0       0   \n",
      "1      1/22/2020             Albania          0       0          0       0   \n",
      "2      1/22/2020             Algeria          0       0          0       0   \n",
      "3      1/22/2020             Andorra          0       0          0       0   \n",
      "4      1/22/2020              Angola          0       0          0       0   \n",
      "...          ...                 ...        ...     ...        ...     ...   \n",
      "35151  7/27/2020  West Bank and Gaza      10621      78       3752    6791   \n",
      "35152  7/27/2020      Western Sahara         10       1          8       1   \n",
      "35153  7/27/2020               Yemen       1691     483        833     375   \n",
      "35154  7/27/2020              Zambia       4552     140       2815    1597   \n",
      "35155  7/27/2020            Zimbabwe       2704      36        542    2126   \n",
      "\n",
      "       New cases  New deaths  New recovered             WHO Region  \n",
      "0              0           0              0  Eastern Mediterranean  \n",
      "1              0           0              0                 Europe  \n",
      "2              0           0              0                 Africa  \n",
      "3              0           0              0                 Europe  \n",
      "4              0           0              0                 Africa  \n",
      "...          ...         ...            ...                    ...  \n",
      "35151        152           2              0  Eastern Mediterranean  \n",
      "35152          0           0              0                 Africa  \n",
      "35153         10           4             36  Eastern Mediterranean  \n",
      "35154         71           1            465                 Africa  \n",
      "35155        192           2             24                 Africa  \n",
      "\n",
      "[35156 rows x 10 columns]>\n"
     ]
    }
   ],
   "source": [
    "# 2.5 points\n",
    "#Task 1-a: Print the details of the data frame (information such as number of rows,columns, name of columns, etc)\n",
    "print (\">>Task 1-a: Details of data frame are: \\n\", df_data.info )"
   ]
  },
  {
   "cell_type": "code",
   "execution_count": 4,
   "metadata": {},
   "outputs": [
    {
     "name": "stdout",
     "output_type": "stream",
     "text": [
      "\n",
      "\n",
      ">>Task 1-b: Number of rows:35156 and number of columns:10 \n",
      "\n"
     ]
    }
   ],
   "source": [
    "#2.5 points\n",
    "#Task 1-b: Find the number of rows and columns in the data frame.\n",
    "num_rows = df_data.shape[0]\n",
    "num_cols = df_data.shape[1]\n",
    "print (\"\\n\\n>>Task 1-b: Number of rows:%s and number of columns:%s \\n\" % (num_rows, num_cols)) "
   ]
  },
  {
   "cell_type": "code",
   "execution_count": 5,
   "metadata": {},
   "outputs": [
    {
     "name": "stdout",
     "output_type": "stream",
     "text": [
      "\n",
      "\n",
      ">>Task 1-c: Total cases confirmed, deaths, and recovered are \n",
      "                 Country/Region  Confirmed  Deaths  Recovered\n",
      "Country/Region                                              \n",
      "Afghanistan        Afghanistan    1936390   49098     798240\n",
      "Albania                Albania     196702    5708     118877\n",
      "Algeria                Algeria    1179755   77972     755897\n",
      "Andorra                Andorra      94404    5423      69074\n",
      "Angola                  Angola      22662    1078       6573\n",
      "...                        ...        ...     ...        ...\n",
      "Western Sahara  Western Sahara        901      63        648\n",
      "Yemen                    Yemen      67180   17707      23779\n",
      "Zambia                  Zambia     129421    2643      83611\n",
      "Zimbabwe              Zimbabwe      50794     881      12207\n",
      "taiwan                  taiwan      55593     840      42184\n",
      "\n",
      "[187 rows x 4 columns]\n"
     ]
    }
   ],
   "source": [
    "#7.5 points\n",
    "#Task 1-c: Print the total cases confirmed, deaths, and recovered cases of each country with the given dataset.\n",
    "#The below variable holds data for all the unique countries, and their total - confirmed, deaths, and recovered cases.\n",
    "total_confirmed_deaths_recovered = df_data[['Country/Region', 'Confirmed', 'Deaths', 'Recovered']]\n",
    "aggregation_functions = {'Country/Region': 'first', 'Confirmed': 'sum', 'Deaths': 'sum', 'Recovered': 'sum'}\n",
    "total_confirmed_deaths_recovered = df_data.groupby(total_confirmed_deaths_recovered['Country/Region']).aggregate(aggregation_functions)\n",
    "\n",
    "print (\"\\n\\n>>Task 1-c: Total cases confirmed, deaths, and recovered are \\n\", total_confirmed_deaths_recovered)"
   ]
  },
  {
   "cell_type": "code",
   "execution_count": 6,
   "metadata": {},
   "outputs": [
    {
     "name": "stdout",
     "output_type": "stream",
     "text": [
      "\n",
      "\n",
      " >>Task 1-d: \n",
      "                 Country/Region  Confirmed    Deaths  Recovered\n",
      "Country/Region                                                \n",
      "US                          US  224345948  11011411   56353416\n",
      "Brazil                  Brazil   89524967   3938034   54492873\n",
      "Russia                  Russia   45408411    619385   25120448\n",
      "India                    India   40883464   1111831   23783720\n",
      "Spain                    Spain   27404045   3033030   15093583\n",
      "United Kingdom  United Kingdom   26748587   3997775     126217\n",
      "Italy                    Italy   26745145   3707717   15673910\n",
      "France                  France   21210926   3048524    7182115\n",
      "Germany                Germany   21059152    871322   17107839\n",
      "Iran                      Iran   19339267   1024136   15200895\n",
      "\n",
      "\n",
      " >>Task 1-d: \n",
      "                 Country/Region  Confirmed    Deaths  Recovered\n",
      "Country/Region                                                \n",
      "US                          US  224345948  11011411   56353416\n",
      "United Kingdom  United Kingdom   26748587   3997775     126217\n",
      "Brazil                  Brazil   89524967   3938034   54492873\n",
      "Italy                    Italy   26745145   3707717   15673910\n",
      "France                  France   21210926   3048524    7182115\n"
     ]
    }
   ],
   "source": [
    "# 5 points for both questions below,\n",
    "\n",
    "#Task 1-d-i: Print top 10 worst affected countries with confirmed cases.\n",
    "top_confirmed_ten_countries  = total_confirmed_deaths_recovered.nlargest(10, 'Confirmed')\n",
    "print (\"\\n\\n >>Task 1-d: \\n\", top_confirmed_ten_countries)\n",
    "\n",
    "#Task 1-d-ii: Print top 5 worst affected countries with death cases.\n",
    "top_death_five_countries  = total_confirmed_deaths_recovered.nlargest(5, 'Deaths')\n",
    "print (\"\\n\\n >>Task 1-d: \\n\", top_death_five_countries)"
   ]
  },
  {
   "cell_type": "markdown",
   "metadata": {},
   "source": [
    "# Task 2: Aggregation & Filtering & Rank\n",
    "In this task, we will perform some very high level aggregation and filtering operations. \n",
    "Then, we will apply ranking on the results for some tasks. \n",
    "Pandas has a convenient and powerful syntax for aggregation, filtering, and ranking. \n",
    "DO NOT write a for loop. Pandas has built-in functions for all tasks. "
   ]
  },
  {
   "cell_type": "code",
   "execution_count": 7,
   "metadata": {},
   "outputs": [
    {
     "name": "stdout",
     "output_type": "stream",
     "text": [
      ">>Task 2-a:  The countries that has had more than a total of 2 hundred thousand confirmed cases are: \n",
      "                            Country/Region  Confirmed\n",
      "Country/Region                                       \n",
      "Afghanistan                    Afghanistan    1936390\n",
      "Algeria                            Algeria    1179755\n",
      "Argentina                        Argentina    4450658\n",
      "Armenia                            Armenia    1587173\n",
      "Australia                        Australia     960247\n",
      "...                                    ...        ...\n",
      "United Arab Emirates  United Arab Emirates    3658838\n",
      "United Kingdom              United Kingdom   26748587\n",
      "Uzbekistan                      Uzbekistan     678008\n",
      "Venezuela                        Venezuela     412231\n",
      "West Bank and Gaza      West Bank and Gaza     233461\n",
      "\n",
      "[102 rows x 2 columns]\n",
      "\n",
      "\n",
      ">>Task 2-b: The total number of confirmed, recovered, and death cases for each WHO region are: \n",
      "                                  WHO Region  Confirmed    Deaths  Recovered\n",
      "WHO Region                                                                  \n",
      "Africa                                Africa   21791827    439978   11193730\n",
      "Americas                            Americas  402261194  19359292  157069444\n",
      "Eastern Mediterranean  Eastern Mediterranean   74082892   1924029   48050703\n",
      "Europe                                Europe  248879793  19271040  123202075\n",
      "South-East Asia              South-East Asia   55118365   1458134   30030327\n",
      "Western Pacific              Western Pacific   26374411    932430   18861950\n",
      "\n",
      "\n",
      ">>Task 2-c: The top 5 poorly performing countries, in the order of confirmed, deaths, and recovered cases.s are: \n",
      "               Country/Region  Confirmed    Deaths  Recovered\n",
      "Country/Region                                               \n",
      "US                         US  224345948  11011411   56353416\n",
      "Brazil                 Brazil   89524967   3938034   54492873\n",
      "Russia                 Russia   45408411    619385   25120448\n",
      "India                   India   40883464   1111831   23783720\n",
      "Spain                   Spain   27404045   3033030   15093583\n",
      "\n",
      "\n",
      ">>Task 2-d: The top 5 poorly performing WHO regions, in the order of confirmed, deaths, and recovered cases are: \n",
      "                                  WHO Region  Confirmed    Deaths  Recovered\n",
      "WHO Region                                                                  \n",
      "Americas                            Americas  402261194  19359292  157069444\n",
      "Europe                                Europe  248879793  19271040  123202075\n",
      "Eastern Mediterranean  Eastern Mediterranean   74082892   1924029   48050703\n",
      "South-East Asia              South-East Asia   55118365   1458134   30030327\n",
      "Western Pacific              Western Pacific   26374411    932430   18861950\n"
     ]
    }
   ],
   "source": [
    "# 8 points\n",
    "#Task 2-a: Find out the countries that has had more than a total of 2 hundred thousand confirmed cases.\n",
    "\n",
    "selec=(total_confirmed_deaths_recovered['Confirmed'])>200000\n",
    "\n",
    "\n",
    "confirmed_greater_than_200K = total_confirmed_deaths_recovered[selec][['Country/Region', 'Confirmed']]\n",
    "# print(total_confirmed_deaths_recovered)\n",
    "\n",
    "print (\">>Task 2-a:  The countries that has had more than a total of 2 hundred thousand confirmed cases are: \\n%s\" % (confirmed_greater_than_200K))\n",
    "\n",
    "# 8 points\n",
    "#Task 2-b: Find out the total number of confirmed, recovered, and death cases for each WHO region.\n",
    "\n",
    "\n",
    "total_cases_whoregion = df_data[['WHO Region', 'Confirmed', 'Deaths', 'Recovered']]\n",
    "aggregation_functions = {'WHO Region': 'first', 'Confirmed': 'sum', 'Deaths': 'sum', 'Recovered': 'sum'}\n",
    "total_cases_whoregion = df_data.groupby(total_cases_whoregion['WHO Region']).aggregate(aggregation_functions)\n",
    "\n",
    "print (\"\\n\\n>>Task 2-b: The total number of confirmed, recovered, and death cases for each WHO region are: \\n%s\" % (total_cases_whoregion))\n",
    "\n",
    "# 7 points\n",
    "#Task 2-c: Find out the top 5 poorly performing countries, in the order of confirmed, deaths, and recovered cases.\n",
    "\n",
    "# using deaths as the condition as more deaths implies more poor performance\n",
    "top5_poorlyperforming=total_confirmed_deaths_recovered.nlargest(5, 'Confirmed')\n",
    "print (\"\\n\\n>>Task 2-c: The top 5 poorly performing countries, in the order of confirmed, deaths, and recovered cases.s are: \\n%s\" % (top5_poorlyperforming))\n",
    "\n",
    "# 7 points\n",
    "#Task 2-d: Find out the top 5 poorly performing WHO regions, in the order of confirmed, deaths, and recovered cases.\n",
    "\n",
    "# using deaths as the condition as more deaths implies more poor performance\n",
    "top5_disasters=total_cases_whoregion.nlargest(5, 'Confirmed')\n",
    "print (\"\\n\\n>>Task 2-d: The top 5 poorly performing WHO regions, in the order of confirmed, deaths, and recovered cases are: \\n%s\" % (top5_disasters))\n",
    "\n",
    "\n"
   ]
  },
  {
   "cell_type": "markdown",
   "metadata": {},
   "source": [
    "# Task 3: Visualization\n",
    "In this task, you will perform a number of visualization tasks to get some intuition about the data. Visualization is a key component of exploration. You can choose to use either Matplotlib or Seaborn for plotting. The default figures generated from Matplotlib might look a bit ugly. So you might want to try Seaborn to get better figures. Seaborn has a variety of styles. Feel free to experiment with them and choose the one you like. We have earmarked 10 points for the aesthetics of your visualizations."
   ]
  },
  {
   "cell_type": "code",
   "execution_count": 10,
   "metadata": {
    "scrolled": false
   },
   "outputs": [
    {
     "data": {
      "text/plain": [
       "<matplotlib.axes._subplots.AxesSubplot at 0x2b944291130>"
      ]
     },
     "execution_count": 10,
     "metadata": {},
     "output_type": "execute_result"
    },
    {
     "data": {
      "image/png": "[encoded data removed]",
      "text/plain": [
       "<Figure size 720x720 with 1 Axes>"
      ]
     },
     "metadata": {},
     "output_type": "display_data"
    },
    {
     "data": {
      "image/png": "[encoded data removed]",
      "text/plain": [
       "<Figure size 720x720 with 1 Axes>"
      ]
     },
     "metadata": {},
     "output_type": "display_data"
    }
   ],
   "source": [
    "sns.set_style('whitegrid')\n",
    "sns.set(font_scale = 1.3)\n",
    "\n",
    "# 15 points\n",
    "# Task 3-a: Plot the graph for the top 10 poorly performing countries, over 7 months of data provided \n",
    "# Think of a way to nicely visualize all the countries. \n",
    "#########################begin code for Task 3-a\n",
    "top_10_poor_performaing_countries = total_confirmed_deaths_recovered.nlargest(10, 'Confirmed')[['Country/Region','Confirmed']]\n",
    "top_10_poor_performaing_countries.plot.bar(x = 'Country/Region', figsize=(10, 10))\n",
    "#########################end code for Task 3-a\n",
    "\n",
    "# 15 points\n",
    "# Task 3-b: Plot a pie-chart for the top 3 poorly performing WHO regions, over 7 months of data provided \n",
    "#########################begin code for Task 3-b \n",
    "top5_poorly_WHORegion = total_cases_whoregion.nlargest(3, 'Confirmed')\n",
    "top5_poorly_WHORegion.plot.pie(y = 'Confirmed', figsize=(10, 10))\n",
    "#########################end code for Task 3-b"
   ]
  },
  {
   "cell_type": "markdown",
   "metadata": {},
   "source": [
    "# Task 4: Interesting Information.\n",
    "Find out an 'interesting' information from the dataset. Create a visualization for it and explain in a few lines your reasoning. \n",
    "\n",
    "This task is worth 10 points. Your result will be judged based on the uniqueness and quality of your work (having a meaningful result and an aesthetic visualization). "
   ]
  },
  {
   "cell_type": "code",
   "execution_count": 30,
   "metadata": {},
   "outputs": [
    {
     "name": "stdout",
     "output_type": "stream",
     "text": [
      "               Country/Region  New cases  New deaths  New recovered\n",
      "Country/Region                                                     \n",
      "US                         US    4290258      148011        1325804\n",
      "Brazil                 Brazil    2442375       87618        1846641\n",
      "India                   India    1480073       33408         951166\n",
      "Russia                 Russia     816680       13334         602249\n",
      "South Africa     South Africa     452529        7067         274925\n"
     ]
    },
    {
     "data": {
      "text/plain": [
       "<matplotlib.axes._subplots.AxesSubplot at 0x2b9478b2a60>"
      ]
     },
     "execution_count": 30,
     "metadata": {},
     "output_type": "execute_result"
    },
    {
     "data": {
      "image/png": "[encoded data removed]",
      "text/plain": [
       "<Figure size 720x720 with 1 Axes>"
      ]
     },
     "metadata": {},
     "output_type": "display_data"
    }
   ],
   "source": [
    "#########################begin code for Task 4\n",
    "\n",
    "# aggrigate = df_data[['Country/Region', 'Confirmed', 'Deaths', 'Recovered']]\n",
    "# New cases  New deaths  New recovered\n",
    "aggregation_functions = {'Country/Region': 'first', 'New cases': 'sum', 'New deaths': 'sum', 'New recovered': 'sum'}\n",
    "total_cases = df_data.groupby(df_data['Country/Region']).aggregate(aggregation_functions)\n",
    "\n",
    "top5_poorly = total_cases.nlargest(5, 'New cases')\n",
    "\n",
    "print(top5_poorly)\n",
    "\n",
    "top5_poorly.plot.bar(x = 'Country/Region', figsize=(10, 10))\n",
    "\n",
    "\n",
    "#########################end code for Task 4"
   ]
  },
  {
   "cell_type": "markdown",
   "metadata": {},
   "source": [
    "Looking at the graphs above, we can say that, though Russia, India and South Africa are getting New cases a lot but the death rate is very low as nil, so we can say that somehow the people developed an immunity against Covid. Instead United States have a low recovery rate as compare to other countries in the graph."
   ]
  },
  {
   "cell_type": "markdown",
   "metadata": {},
   "source": []
  },
  {
   "cell_type": "markdown",
   "metadata": {},
   "source": [
    "# Task 5: WEKA\n",
    "\n",
    "You have to use WEKA,\n",
    "* This task is worth 10 points.\n",
    "* This task is different from the above tasks attached.\n",
    "* You have to work on disaster.csv dataset attached in the same directory as the file.\n",
    "* Find out how to convert the used dataset in weka format \n",
    "* Convert it \n",
    "* use the weka visualizer to produce some graphs.\n",
    "* Write down observations, on the images you are going to attach with the submission.\n",
    "* You must attach atleast 5 different observations alongwith your submission.\n",
    "\n",
    "\n",
    "In this dataset, you will work on 63 years of Federal Disasters dataset. The file database.csv contains 46,184 rows and 14 columns. This dataset begins with the year 1953, and runs up to the year 2017. Each row corresponds to an emergency declared by the president due to a natural disaster all around the US. The columns of the data-set are:\n",
    "\n",
    "* Declaration Number - Unique number for each emergency declared\n",
    "* Declaration Type - Type of declaration\n",
    "* Declaration Date - Date of declaration\n",
    "* State - State affected\n",
    "* County - County affected\n",
    "* Disaster Type\n",
    "* Disaster Title\n",
    "* Start Date - The date event started\n",
    "* End Date - The date event ended\n",
    "* Close Date - End of Declaration\n",
    "* Individual Assistance Program - Whether IAP was provided or not?\n",
    "* Individuals & Households Program - Whether IHP was provided or not?\n",
    "* Public Assistance Program - Whether PAP was provided or not?\n",
    "* Hazard Mitigation Program - Whether HMP was provided or not?"
   ]
  },
  {
   "cell_type": "code",
   "execution_count": 30,
   "metadata": {},
   "outputs": [],
   "source": [
    "#########################begin code for Task 5\n",
    "# Goto weka tools and open disaster.csv file in arff viewer.\n",
    "# If you find any problems in the dataset, you can pre-process data to avoid any such case as per your obersvations,\n",
    "# and mention it here.\n",
    "# and finally you can save it as arff file\n",
    "# Write down observations, on the images you are going to attach with the submission.\n",
    "\n",
    "\n",
    "### For submission, the arff file has to be submitted alongwith 5 graphical observations in a folder with extensions .png, .jpg\n",
    "### or can provide a compiled set of images in a word or pdf.\n",
    "#########################end code for Task 5 "
   ]
  }
 ],
 "metadata": {
  "kernelspec": {
   "display_name": "Python 3",
   "language": "python",
   "name": "python3"
  },
  "language_info": {
   "codemirror_mode": {
    "name": "ipython",
    "version": 3
   },
   "file_extension": ".py",
   "mimetype": "text/x-python",
   "name": "python",
   "nbconvert_exporter": "python",
   "pygments_lexer": "ipython3",
   "version": "3.8.3"
  }
 },
 "nbformat": 4,
 "nbformat_minor": 1
}
